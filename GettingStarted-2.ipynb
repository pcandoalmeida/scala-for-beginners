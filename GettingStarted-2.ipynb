{
 "cells": [
  {
   "cell_type": "markdown",
   "metadata": {},
   "source": [
    "## Scala for Beginners\n",
    "\n",
    "> “The usual goal in the typing monkeys thought experiment is the production of the complete works of Shakespeare. Having a spell checker and a grammar checker in the loop would drastically increase the odds. The analog of a type checker would go even further by making sure that, once Romeo is declared a human being, he doesn’t sprout leaves or trap photons in his powerful gravitational field.\n",
    "― Bartosz Milewski, Category Theory for Programmers\n",
    "\n",
    "Welcome to what is hopefully the first of many mini-tutorials on Scala fundamentals and functional programming.\n",
    "\n",
    "These notebooks contain some simple exposition about various Scala topics, code, exercises and references for more in-depth reading online.\n",
    "\n",
    "### What you will learn:\n",
    "\n",
    "* How functional programming differs from imperative programming\n",
    "* How to define functions in Scala\n",
    "* How to express loops using recursion\n",
    "* Higher-order functions\n",
    "* Polymorphic functions\n",
    "* Function composition"
   ]
  },
  {
   "cell_type": "markdown",
   "metadata": {},
   "source": [
    "### What is Functional Programming?"
   ]
  },
  {
   "cell_type": "markdown",
   "metadata": {},
   "source": [
    "Functional Programming or FP is an approach to programming that aims to construct programs with only *pure functions*, which means functions that have no side effects.\n",
    "\n",
    "That sounds perfectly fine. But what do we mean by *side effects*?\n",
    "\n",
    "Side effects can include:\n",
    "\n",
    "* Throwing an exception\n",
    "* Logging or printing something out to the console\n",
    "* Updating a variable\n",
    "* Updating or modifying a data structure like an array in place\n",
    "\n",
    "Yikes. Doesn't that limit what our programs can do?\n",
    "\n",
    "Not really. In fact, FP can introduce some improvements into our code as a result of this approach.\n",
    "\n",
    "In this section, we will define the following two concepts:\n",
    "\n",
    "* Referential Transparency\n",
    "* Substituion Model\n",
    "\n",
    "#### Referential Transparency\n",
    "\n",
    "Referential Transparency (RT) is the idea that the behaviour of a function is represented by the value that it returns. This leads to *equational reasoning* about programs. Computation proceeds by substituting equal expressions. This is why functions cannot have side effects. If they did, then a function would not be represented by just its return value. It would have a knock on effect onto other aspects of our program and thus makes it harder to reason about.\n",
    "\n",
    "\n",
    "#### Substitution Model\n",
    "\n",
    "The substitution model therefore says that we can substitute a pieces of modular code (in this case, pure functions) together in order to achieve an end result."
   ]
  },
  {
   "cell_type": "markdown",
   "metadata": {},
   "source": [
    "#### A quick deep-dive on Functions in Scala"
   ]
  },
  {
   "cell_type": "markdown",
   "metadata": {},
   "source": [
    "```def``` is used to define functions. It is evaluated on call.\n",
    "\n",
    "Scala allows us to define:\n",
    "\n",
    "* Functions as values\n",
    "* Function literals or anonymous functions\n",
    "* Function objects\n",
    "\n",
    "A function in Scala is a value and so can be assigned to a variable, passed as an argument into a function and even stored in data structures.\n",
    "\n",
    "```Scala\n",
    "def square(n: Int): n * n\n",
    "```\n",
    "\n",
    "Scala has no `return` keyword. Simply, the last line of a function is the returned expression.\n",
    "\n",
    "Unlike in Python:\n",
    "\n",
    "```Python\n",
    "def square(n):\n",
    "    return n * n\n",
    "```\n",
    "\n",
    "A function in Scala has a few more formal components:\n",
    "\n",
    "```Scala\n",
    "def square(n: Int): Int = {\n",
    "    n * n\n",
    "}\n",
    "```\n",
    "\n",
    "Here, we define the input type: `n: Int` and the function's return type: `...: Int = {...`\n",
    "\n",
    "A function can also be defined in-line without an identifier:\n",
    "\n",
    "```Scala\n",
    "(a: Int, b: Int) -> a < b\n",
    "```\n",
    "\n",
    "Under the hood however, Scala defines functions as objects:\n",
    "\n",
    "```Scala\n",
    "val lessThan = new Function2[Int, Int, Boolean] {\n",
    "  def apply(a: Int, b: Int) = a < b\n",
    "}\n",
    "```\n",
    "\n",
    "As we can see, functions are objects and are therefore first-class values in Scala.\n",
    "\n",
    "References:\n",
    "* https://alvinalexander.com/scala/fp-book-diffs-val-def-scala-functions/"
   ]
  },
  {
   "cell_type": "markdown",
   "metadata": {},
   "source": [
    "### Exercise 🍭\n",
    "\n",
    "Write a function called `even` which takes an input and returns a Boolean type of true or false depending on whether the input is even or not."
   ]
  },
  {
   "cell_type": "code",
   "execution_count": 1,
   "metadata": {},
   "outputs": [
    {
     "data": {
      "text/plain": [
       "defined \u001b[32mfunction\u001b[39m \u001b[36meven\u001b[39m"
      ]
     },
     "execution_count": 1,
     "metadata": {},
     "output_type": "execute_result"
    }
   ],
   "source": [
    "def even(): Any = ???"
   ]
  },
  {
   "cell_type": "markdown",
   "metadata": {},
   "source": [
    "#### Wait, no Loops in FP!?"
   ]
  },
  {
   "cell_type": "markdown",
   "metadata": {},
   "source": [
    "#### Dustin HigherOrderFunctionsman"
   ]
  },
  {
   "cell_type": "markdown",
   "metadata": {},
   "source": [
    "#### Polymorphic Functions"
   ]
  },
  {
   "cell_type": "markdown",
   "metadata": {},
   "source": [
    "#### Function Composition"
   ]
  },
  {
   "cell_type": "markdown",
   "metadata": {},
   "source": [
    "This function acts like Python's find(). It searches through an array and confirms the first instance of an Array element."
   ]
  },
  {
   "cell_type": "code",
   "execution_count": 2,
   "metadata": {},
   "outputs": [
    {
     "data": {
      "text/plain": [
       "defined \u001b[32mfunction\u001b[39m \u001b[36mfindFirst\u001b[39m"
      ]
     },
     "execution_count": 2,
     "metadata": {},
     "output_type": "execute_result"
    }
   ],
   "source": [
    "def findFirst(ss: Array[String], key: String): Int = {\n",
    "    @annotation.tailrec\n",
    "    def loop(n: Int): Int = {\n",
    "        if (n >= ss.length) -1\n",
    "        else if (ss(n) == key) n\n",
    "        else loop(n + 1)\n",
    "    }\n",
    "    loop(0)\n",
    "}"
   ]
  },
  {
   "cell_type": "code",
   "execution_count": 3,
   "metadata": {},
   "outputs": [
    {
     "data": {
      "text/plain": [
       "defined \u001b[32mfunction\u001b[39m \u001b[36mfindFirst\u001b[39m"
      ]
     },
     "execution_count": 3,
     "metadata": {},
     "output_type": "execute_result"
    }
   ],
   "source": [
    "def findFirst[A](as: Array[A], p: A => Boolean): Int = {\n",
    "    @annotation.tailrec\n",
    "    def loop(n: Int): Int = {\n",
    "        if (n >= as.length) -1\n",
    "        else if (p(as(n))) n\n",
    "        else loop(n + 1)\n",
    "    }\n",
    "    loop(0)\n",
    "}"
   ]
  },
  {
   "cell_type": "markdown",
   "metadata": {},
   "source": [
    "*Exercise: implement isSorted which checks whether an Array[A] is sorted according to a given comparison function*"
   ]
  },
  {
   "cell_type": "code",
   "execution_count": 4,
   "metadata": {},
   "outputs": [
    {
     "data": {
      "text/plain": [
       "defined \u001b[32mfunction\u001b[39m \u001b[36misSorted\u001b[39m"
      ]
     },
     "execution_count": 4,
     "metadata": {},
     "output_type": "execute_result"
    }
   ],
   "source": [
    "  def isSorted[A](as: Array[A], gt: (A,A) => Boolean): Boolean = {\n",
    "    @annotation.tailrec\n",
    "    def loop(n: Int): Boolean =\n",
    "      if (n >= as.length-1) true              // Terminating condition\n",
    "      else if (gt(as(n), as(n+1))) false\n",
    "      else loop(n+1)\n",
    "    loop(0)\n",
    "  }"
   ]
  },
  {
   "cell_type": "markdown",
   "metadata": {},
   "source": [
    "Use the below function as it makes more sense"
   ]
  },
  {
   "cell_type": "code",
   "execution_count": 6,
   "metadata": {},
   "outputs": [
    {
     "data": {
      "text/plain": [
       "defined \u001b[32mfunction\u001b[39m \u001b[36misSorted\u001b[39m"
      ]
     },
     "execution_count": 6,
     "metadata": {},
     "output_type": "execute_result"
    }
   ],
   "source": [
    "def isSorted[A](as: Array[A], ordering: (A, A) => Boolean): Boolean = {\n",
    "  @annotation.tailrec\n",
    "  def go(n: Int): Boolean =\n",
    "    if (n >= as.length - 1) true\n",
    "    else if (!ordering(as(n), as(n + 1))) false\n",
    "    else go(n + 1)\n",
    "\n",
    "  go(0)\n",
    "}"
   ]
  },
  {
   "cell_type": "code",
   "execution_count": 7,
   "metadata": {},
   "outputs": [
    {
     "data": {
      "text/plain": [
       "\u001b[36mres6\u001b[39m: \u001b[32mBoolean\u001b[39m = true"
      ]
     },
     "execution_count": 7,
     "metadata": {},
     "output_type": "execute_result"
    }
   ],
   "source": [
    "isSorted(Array(1, 3, 5, 7), (x: Int, y: Int) => x < y)"
   ]
  },
  {
   "cell_type": "code",
   "execution_count": 8,
   "metadata": {},
   "outputs": [
    {
     "data": {
      "text/plain": [
       "\u001b[36mres7\u001b[39m: \u001b[32mBoolean\u001b[39m = false"
      ]
     },
     "execution_count": 8,
     "metadata": {},
     "output_type": "execute_result"
    }
   ],
   "source": [
    "isSorted(Array(199, 31, 5, 117), (x: Int, y: Int) => x < y)"
   ]
  },
  {
   "cell_type": "code",
   "execution_count": 13,
   "metadata": {},
   "outputs": [
    {
     "data": {
      "text/plain": [
       "\u001b[36mlessThan\u001b[39m: (\u001b[32mInt\u001b[39m, \u001b[32mInt\u001b[39m) => \u001b[32mBoolean\u001b[39m = <function2>"
      ]
     },
     "execution_count": 13,
     "metadata": {},
     "output_type": "execute_result"
    }
   ],
   "source": [
    "val lessThan = new Function2[Int, Int, Boolean] {\n",
    "  def apply(a: Int, b: Int) = a < b\n",
    "}"
   ]
  },
  {
   "cell_type": "code",
   "execution_count": 15,
   "metadata": {},
   "outputs": [
    {
     "data": {
      "text/plain": [
       "\u001b[36mres14\u001b[39m: \u001b[32mBoolean\u001b[39m = true"
      ]
     },
     "execution_count": 15,
     "metadata": {},
     "output_type": "execute_result"
    }
   ],
   "source": [
    "lessThan.apply(2, 4)"
   ]
  },
  {
   "cell_type": "code",
   "execution_count": 14,
   "metadata": {},
   "outputs": [
    {
     "data": {
      "text/plain": [
       "\u001b[36mres13\u001b[39m: \u001b[32mBoolean\u001b[39m = true"
      ]
     },
     "execution_count": 14,
     "metadata": {},
     "output_type": "execute_result"
    }
   ],
   "source": [
    "lessThan(2, 4)"
   ]
  },
  {
   "cell_type": "markdown",
   "metadata": {},
   "source": [
    "Partial application: function is being applied to some but not all of the arguments it requires"
   ]
  },
  {
   "cell_type": "code",
   "execution_count": 16,
   "metadata": {},
   "outputs": [
    {
     "data": {
      "text/plain": [
       "defined \u001b[32mfunction\u001b[39m \u001b[36mpartiall\u001b[39m"
      ]
     },
     "execution_count": 16,
     "metadata": {},
     "output_type": "execute_result"
    }
   ],
   "source": [
    "def partiall[A, B, C](a: A, f: (A,B) => C): B => C = {\n",
    "    (b: B) => f(a, b)\n",
    "}"
   ]
  },
  {
   "cell_type": "markdown",
   "metadata": {},
   "source": [
    "*Currying* converts a function of two or more arguments into a function of one argument that partially applies the function"
   ]
  },
  {
   "cell_type": "code",
   "execution_count": 17,
   "metadata": {},
   "outputs": [
    {
     "data": {
      "text/plain": [
       "defined \u001b[32mfunction\u001b[39m \u001b[36mcurry\u001b[39m"
      ]
     },
     "execution_count": 17,
     "metadata": {},
     "output_type": "execute_result"
    }
   ],
   "source": [
    "def curry[A, B, C](f: (A, B) => C): A => (B => C) = {\n",
    "    (a: A) => (b: B) => f(a, b)\n",
    "}"
   ]
  },
  {
   "cell_type": "code",
   "execution_count": 20,
   "metadata": {},
   "outputs": [
    {
     "data": {
      "text/plain": [
       "defined \u001b[32mfunction\u001b[39m \u001b[36mcurry\u001b[39m"
      ]
     },
     "execution_count": 20,
     "metadata": {},
     "output_type": "execute_result"
    }
   ],
   "source": [
    "def curry[A, B, C](f: (A, B) => C): A => (B => C) = {\n",
    "    a => b => f(a, b)\n",
    "}"
   ]
  },
  {
   "cell_type": "markdown",
   "metadata": {},
   "source": [
    "Implement *uncurry*, which reverses the transformation of *curry*. Note that right-associative operators of the same precedence are evaluated in order from *right* to left.\n",
    "\n",
    "```\n",
    "A => (B => C) can be written as A => B => C\n",
    "```\n",
    "\n",
    "For more information see: https://stackoverflow.com/questions/38746355/difference-between-fa-b-and-fab-in-scala"
   ]
  },
  {
   "cell_type": "code",
   "execution_count": 33,
   "metadata": {},
   "outputs": [
    {
     "data": {
      "text/plain": [
       "defined \u001b[32mfunction\u001b[39m \u001b[36muncurry\u001b[39m"
      ]
     },
     "execution_count": 33,
     "metadata": {},
     "output_type": "execute_result"
    }
   ],
   "source": [
    "def uncurry[A, B, C](f: A => B => C): (A, B) => C = {\n",
    "   (a, b) => f(a)(b)\n",
    "    // This is not f(a, b) but f.apply(a).apply(b)\n",
    "}"
   ]
  },
  {
   "cell_type": "markdown",
   "metadata": {},
   "source": [
    "Implement the higher-order function which *composes* two functions. \n",
    "\n",
    "*Function composition* feeds the output of one function to the input of another function"
   ]
  },
  {
   "cell_type": "code",
   "execution_count": 21,
   "metadata": {},
   "outputs": [
    {
     "data": {
      "text/plain": [
       "defined \u001b[32mfunction\u001b[39m \u001b[36mcompose\u001b[39m"
      ]
     },
     "execution_count": 21,
     "metadata": {},
     "output_type": "execute_result"
    }
   ],
   "source": [
    "def compose[A, B, C](f: B => C, g: A => B): A => C = {\n",
    "    (a: A) => f(g(a))\n",
    "}"
   ]
  },
  {
   "cell_type": "markdown",
   "metadata": {},
   "source": [
    "*Compose* makes a new function that composes other functions ```f(g(x))```\n",
    "\n",
    "*andThen* is like compose, but calls the first function and then the second ```g(f(x))```"
   ]
  },
  {
   "cell_type": "code",
   "execution_count": 32,
   "metadata": {},
   "outputs": [
    {
     "data": {
      "text/plain": [
       "defined \u001b[32mfunction\u001b[39m \u001b[36meven\u001b[39m\n",
       "defined \u001b[32mfunction\u001b[39m \u001b[36modd\u001b[39m\n",
       "\u001b[36mres31_2\u001b[39m: \u001b[32mInt\u001b[39m = \u001b[32m1\u001b[39m\n",
       "\u001b[36msomeFunkyComposition\u001b[39m: \u001b[32mInt\u001b[39m => \u001b[32mInt\u001b[39m = scala.Function1$$Lambda$2158/1661939066@484d6638\n",
       "\u001b[36msomeOtherFunkyCompositionWhereIGetAnOddNumber\u001b[39m: \u001b[32mInt\u001b[39m => \u001b[32mInt\u001b[39m = scala.Function1$$Lambda$607/746072855@6b900204\n",
       "\u001b[36mres31_5\u001b[39m: \u001b[32mInt\u001b[39m = \u001b[32m0\u001b[39m\n",
       "\u001b[36mres31_6\u001b[39m: \u001b[32mInt\u001b[39m = \u001b[32m5\u001b[39m"
      ]
     },
     "execution_count": 32,
     "metadata": {},
     "output_type": "execute_result"
    }
   ],
   "source": [
    "def even(n: Int): Int = {\n",
    "    n * 2\n",
    "}\n",
    "\n",
    "def odd(n: Int): Int = {\n",
    "    n - 1\n",
    "}\n",
    "\n",
    "odd(even(1))\n",
    "\n",
    "val someFunkyComposition = even _ compose odd _\n",
    "\n",
    "val someOtherFunkyCompositionWhereIGetAnOddNumber = even _ andThen odd _\n",
    "\n",
    "someFunkyComposition(1)\n",
    "someOtherFunkyCompositionWhereIGetAnOddNumber(3)"
   ]
  }
 ],
 "metadata": {
  "kernelspec": {
   "display_name": "Scala",
   "language": "scala",
   "name": "scala"
  },
  "language_info": {
   "codemirror_mode": "text/x-scala",
   "file_extension": ".sc",
   "mimetype": "text/x-scala",
   "name": "scala",
   "nbconvert_exporter": "script",
   "version": "2.13.3"
  }
 },
 "nbformat": 4,
 "nbformat_minor": 4
}
