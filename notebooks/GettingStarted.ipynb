{
 "cells": [
  {
   "cell_type": "markdown",
   "metadata": {},
   "source": [
    "# Scala for Beginners\n",
    "\n",
    "> \"If you're coming form an imperative background, such as Java or C++... you may think of var as a regular variable and val as a special kind of variable. On the other hand, if you're coming from a functional background... you might think of val as a regular variable and var as akin to *blasphemy*...\" -- Odersky, Spoon and Venners, Programming in Scala (3rd Edition, Emphasis mine)\n",
    "\n",
    "Welcome to what is hopefully the first of many mini-tutorials on Scala fundamentals and functional programming.\n",
    "\n",
    "These notebooks contain some simple exposition about various Scala topics, code, exercises and references to more in-depth reading online.\n",
    "\n",
    "## What you will learn 🚀\n",
    "* How functional programming differs from imperative programming\n",
    "* How to define functions in Scala\n",
    "* How to express loops using recursion\n",
    "* Higher-order functions\n",
    "* Polymorphic functions\n",
    "* Function composition"
   ]
  },
  {
   "cell_type": "markdown",
   "metadata": {},
   "source": [
    "## What is Functional Programming?"
   ]
  },
  {
   "cell_type": "markdown",
   "metadata": {},
   "source": [
    "Functional Programming or FP is an approach to programming that aims to construct programs with only *pure functions*. This means functions that have no **side effects**.\n",
    "\n",
    "Sounds reasonable. But what do we mean by *side effects*?\n",
    "\n",
    "Side effects can include:\n",
    "\n",
    "* Throwing an **exception**\n",
    "* Logging or **printing** something out to the console\n",
    "* **Updating** a variable\n",
    "* Updating or **modifying** a data structure like an array **in place**\n",
    "\n",
    "Yikes! Doesn't that limit what our programs can do?\n",
    "\n",
    "Not really. In fact, FP can introduce some improvements into our code as a result of this approach.\n",
    "\n",
    "OK, so what's imperative programming, again?\n",
    "\n",
    "**Imperative programming** is one where instructions are laid out sequentially and processed top to bottom, using things like while loops, for-loops and often, mutable data structures.\n",
    "\n",
    "In this section, we will define the following two concepts:\n",
    "\n",
    "* Referential Transparency\n",
    "* Substituion Model\n",
    "\n",
    "#### Referential Transparency\n",
    "\n",
    "Referential Transparency (RT) is the idea that the *behaviour of a function is represented by the value that it returns*. This leads to *equational reasoning* about programs. \n",
    "\n",
    "Computation proceeds by substituting equal expressions. This is why functions cannot have side effects. If they did, then a function would not be represented by just its return value. It would have a knock on effect onto other aspects of our program and thus makes it harder to reason about.\n",
    "\n",
    "\n",
    "#### Substitution Model\n",
    "\n",
    "The substitution model therefore says that we can substitute a pieces of modular code (in this case, pure functions) together in order to achieve an end result. This has particular advantages for computation. Take the following as an example of substitution:\n",
    "\n",
    "```\n",
    "For all e in the set of PositiveIntegers{e}:\n",
    "\n",
    "a + b + c == (a + b) + c == a + (b + c)\n",
    "```\n",
    "\n",
    "As a result of this tight and considered control, the compiler can optimize instruction evaluation without having an impact on the overall outcome of the program. It could be the case that performing `(b + c)`  and then `a + (b + c)` leads to better performance than the other two possibilities.\n",
    "\n",
    "Awesome!\n",
    "\n",
    "FP therefore:\n",
    "\n",
    "* Deals and works with pure functions\n",
    "* Uses immutable variables and data structures\n",
    "* Uses functions as the main unit of computation"
   ]
  },
  {
   "cell_type": "markdown",
   "metadata": {},
   "source": [
    "## A Primer on Functions in Scala"
   ]
  },
  {
   "cell_type": "markdown",
   "metadata": {},
   "source": [
    "```def``` is used to define functions. It is evaluated on call.\n",
    "\n",
    "Scala allows us to define:\n",
    "\n",
    "* Functions as values\n",
    "* Function literals or anonymous functions\n",
    "* Function objects\n",
    "\n",
    "A function in Scala is a value and so can be assigned to a variable, passed as an argument into a function and even stored in data structures.\n",
    "\n",
    "```Scala\n",
    "def square(n: Int): \n",
    "    n * n\n",
    "```\n",
    "\n",
    "Scala has no `return` keyword. Simply, the last line of a function is the returned expression.\n",
    "\n",
    "Unlike Python:\n",
    "\n",
    "```Python\n",
    "def square(n):\n",
    "    return n * n\n",
    "```\n",
    "\n",
    "A function in Scala has a few more formal components:\n",
    "\n",
    "```Scala\n",
    "def square(n: Int): Int = {\n",
    "    n * n\n",
    "}\n",
    "```\n",
    "\n",
    "Here, we define the input type: `n: Int` and the function's return type: `def square(n: Int): Int = ...`\n",
    "\n",
    "A function can also be defined in-line without an identifier:\n",
    "\n",
    "```Scala\n",
    "(a: Int, b: Int) => a < b\n",
    "```\n",
    "\n",
    "Under the hood however, Scala defines functions as objects:\n",
    "\n",
    "```Scala\n",
    "val lessThan = new Function2[Int, Int, Boolean] {\n",
    "  def apply(a: Int, b: Int) = a < b\n",
    "}\n",
    "```\n",
    "\n",
    "As we can see, functions are objects and are therefore first-class values in Scala.\n",
    "\n",
    "References:\n",
    "* https://alvinalexander.com/scala/fp-book-diffs-val-def-scala-functions/\n",
    "* https://joshldavis.com/2013/09/30/difference-between-imperative-and-functional-part-1/"
   ]
  },
  {
   "cell_type": "markdown",
   "metadata": {},
   "source": [
    "#### Exercise 1.0 ✍\n",
    "\n",
    "Write a function called `even` which takes an input and returns a `Boolean` type of true or false depending on whether the input is even or not."
   ]
  },
  {
   "cell_type": "markdown",
   "metadata": {},
   "source": [
    "Test Cases:"
   ]
  },
  {
   "cell_type": "code",
   "execution_count": null,
   "metadata": {},
   "outputs": [],
   "source": [
    "even(4)"
   ]
  },
  {
   "cell_type": "code",
   "execution_count": null,
   "metadata": {},
   "outputs": [],
   "source": [
    "even(5)"
   ]
  },
  {
   "cell_type": "code",
   "execution_count": null,
   "metadata": {},
   "outputs": [],
   "source": [
    "def even(n: Int): Boolean = {\n",
    "    if ( ??? ) ???\n",
    "    else ???\n",
    "} "
   ]
  },
  {
   "cell_type": "markdown",
   "metadata": {},
   "source": [
    "## Wait, no Loops in FP!?"
   ]
  },
  {
   "cell_type": "markdown",
   "metadata": {},
   "source": [
    "Let's take a look at a simple while loop written in Python.  We will use as an example a function to find the factorial of a number. This function can be written as such:\n",
    "\n",
    "```\n",
    "n! = n * (n-1) * (n-2) ... 2 * 1\n",
    "```"
   ]
  },
  {
   "cell_type": "markdown",
   "metadata": {},
   "source": [
    "In Python:\n",
    "\n",
    "```Python\n",
    "def factorial(n):\n",
    "    num = 1\n",
    "    while n >= 1:\n",
    "        num = num * n\n",
    "        n -= 1\n",
    "    return num\n",
    "```"
   ]
  },
  {
   "cell_type": "markdown",
   "metadata": {},
   "source": [
    "As we can see, we are mutating the loop variable `num`.  In FP mutating variables is not allowed (see above mentioned side-effects). So what can we do when we have a problem that requires us to update a terminating condition variable within a while loop?  \n",
    "\n",
    "We use **recursive functions**!\n",
    "\n",
    "A **recursive function** is a method of solving a problem where the solution depends on solutions to smaller instances of the same problem. Below is an example of a recursive function (let's take a factorial of 4):\n",
    "```Scala\n",
    "fac 4 = 4 * (fac 3)\n",
    "      = 4 * (3 * fac 2)\n",
    "      = 4 * 3 * (2 * fac 1)\n",
    "      = 4 * 3 * (2 * 1)\n",
    "      = 4 * 3 * 2\n",
    "      = 4 * 6\n",
    "      = 24\n",
    "```\n",
    "Think of it as a cute fun triangle! Essentially, we keep expanding until we can't expand anymore. In Scala it looks like this:"
   ]
  },
  {
   "cell_type": "code",
   "execution_count": null,
   "metadata": {},
   "outputs": [],
   "source": [
    "def factorial(n: Int): Int = {\n",
    "  if (n == 1) 1              // Base case \n",
    "  else n * factorial(n - 1)\n",
    "}"
   ]
  },
  {
   "cell_type": "markdown",
   "metadata": {},
   "source": [
    "As you can see this function calls itself. However, in this case, the last step is not calling itself, but rather doing another operation (multiplying by n). \n",
    "\n",
    "If the recursive function is ran too many times in a loop (let's say we want to know the factorial of 1000) it will cause a stack overflow error, as it uses too much memory.\n",
    "\n",
    "The way around this problem is to use **Tail Recursion**. This is a recursive function, but where the last thing it does is *call itself*.  Below is an example of tail recursion:"
   ]
  },
  {
   "cell_type": "code",
   "execution_count": null,
   "metadata": {},
   "outputs": [],
   "source": [
    "def factorial(n: Int): Int = {\n",
    "    @annotation.tailrec // <-- Ignore this for now!\n",
    "    def go(n: Int, acc: Int): Int = {\n",
    "    if (n <= 0) acc\n",
    "    else go(n-1, n*acc)\n",
    "    }\n",
    "    go(n, 1)\n",
    "}"
   ]
  },
  {
   "cell_type": "markdown",
   "metadata": {},
   "source": [
    "Two things are introduced here: a simple inner function `go` (also sometimes called \"loop\") and an accumulator `acc`.\n",
    "\n",
    "What happens is this:\n",
    "```Scala\n",
    "fac 4 = go (4,1)\n",
    "      = go (4-1), (1 * 4)\n",
    "      = go (3,4)\n",
    "      = go (3-1), (4 * 3)\n",
    "      = go (2, 12)\n",
    "      = go (2-1), (12 * 2)\n",
    "      = go (1,24)\n",
    "      = 24\n",
    "```\n",
    "Scala compiles this type of recursion to the same sort of byte code that it would for a while loop. This makes tail recursion much more efficient than normal recursion.\n",
    "\n",
    "Nice!"
   ]
  },
  {
   "cell_type": "markdown",
   "metadata": {},
   "source": [
    "#### Exercise 1.1 ✍\n",
    "\n",
    "Write a recursive function to get the nth Fibonacci number.  The first two Fibonacci numbers are 0 and 1. \n",
    "The nth number is always the sum of the previous two. The sequence begins 0, 1, 1, 2, 3, 5. Your definition should use a local tail-recursive function."
   ]
  },
  {
   "cell_type": "code",
   "execution_count": null,
   "metadata": {},
   "outputs": [],
   "source": [
    "def fib(n: ???): ??? = {\n",
    "  def go(n: Int, prev: Int, curr: Int): Int = \n",
    "    if (n <= 0) ???\n",
    "    else go(n-1, ???, ??? + ???)\n",
    "  go(n, 0, 1)\n",
    "}  "
   ]
  },
  {
   "cell_type": "markdown",
   "metadata": {},
   "source": [
    "## Dustin HigherOrderFunctionsman"
   ]
  },
  {
   "cell_type": "markdown",
   "metadata": {},
   "source": [
    "(Patrick wrote that title - let's all tut and shake our heads) 😅\n",
    "\n",
    "Functions are values and therefore can be assigned to variables, stored in data structures, and passed as arguments to functions.\n",
    "\n",
    "A **higher order function** therefore is a function which takes another function as an argument. \n",
    "\n",
    "Combining our factorial function and the fibonacci functions:"
   ]
  },
  {
   "cell_type": "code",
   "execution_count": null,
   "metadata": {},
   "outputs": [],
   "source": [
    "object Main {\n",
    "    \n",
    "def factorial(n: Int): Int = {\n",
    "  def go(n: Int, acc: Int):Int = {\n",
    "    if (n <= 0) acc\n",
    "    else go(n-1, n*acc)\n",
    "  }\n",
    "  go(n,1)\n",
    "}\n",
    "    \n",
    "def fibonacci(n: ???): ??? = {\n",
    "  def go(n: Int, prev: Int, curr: Int): Int = \n",
    "    if (n <= 0) ???\n",
    "    else go(n-1, ???, ??? + ???)\n",
    "  go(n, 0, 1)\n",
    "}    \n",
    "\n",
    "def formatResult(name: String, n: Int, f: Int => Int) = { // <--- HOFunction; passing a function literal\n",
    "  val mesg = \"The %s of %d is %d\"\n",
    "  mesg.format(name, n, f(n))\n",
    "}\n",
    "\n",
    "def main(args: Array[String]): Unit = {\n",
    "  println(formatResult(\"factorial\", 5, factorial))\n",
    "  println(formatResult(\"fibonacci sequence number in position\", 3, fibonacci))\n",
    "}\n",
    "}"
   ]
  },
  {
   "cell_type": "markdown",
   "metadata": {},
   "source": [
    "The `formatResult` function here is a Higher Order Function (HOF), which takes another function f(n) which has a type `Int => Int` (Int to Int). Because both functions `fib` and `factorial` take an Int and return an Int, they can both be passed into the `formatResult` HOF."
   ]
  },
  {
   "cell_type": "markdown",
   "metadata": {},
   "source": [
    "## Along Came Poly-morphic Functions"
   ]
  },
  {
   "cell_type": "markdown",
   "metadata": {},
   "source": [
    "A **monomorphic function** is one which which operates on only one type of data. Scala is very fussy about it's **types** and so you've kind of seen examples of these monomorphic functions (`def fib()`).\n",
    "\n",
    "**Polymorphic functions** however operate on *any* type of data (or on more than one type of data at least).\n",
    "\n",
    "Hold on to your seats, because this is where it gets *wild*.\n",
    "\n",
    "First of all, let's come up with an example of explain how these shenanigans work.\n",
    "\n",
    "Consider a function to find the first occuring element we define in an array. Something like this:"
   ]
  },
  {
   "cell_type": "code",
   "execution_count": null,
   "metadata": {},
   "outputs": [],
   "source": [
    "def findFirst(ss: Array[String], key: String): Int = {\n",
    "    @annotation.tailrec\n",
    "    def loop(n: Int): Int = {\n",
    "        if (n >= ss.length) -1\n",
    "        else if (ss(n) == key) n\n",
    "        else loop(n + 1)\n",
    "    }\n",
    "    loop(0)\n",
    "}"
   ]
  },
  {
   "cell_type": "markdown",
   "metadata": {},
   "source": [
    "Now this function takes an `Array` type (ss) and a `String` argument type (key). Our function is therefore pretty limited in terms of the types it can handle.\n",
    "\n",
    "How can we make this function more... I don't know... *general*?\n",
    "\n",
    "We do it like this:"
   ]
  },
  {
   "cell_type": "code",
   "execution_count": null,
   "metadata": {},
   "outputs": [],
   "source": [
    "def findFirst[A](as: Array[A], p: A => Boolean): Int = {\n",
    "    @annotation.tailrec\n",
    "    def loop(n: Int): Int = {\n",
    "        if (n >= as.length) -1\n",
    "        else if (p(as(n))) n\n",
    "        else loop(n + 1)\n",
    "    }\n",
    "    loop(0)\n",
    "}"
   ]
  },
  {
   "cell_type": "markdown",
   "metadata": {},
   "source": [
    "OK. So a few things have changed. First of all, we've added this weird array thing: `[A]`. This is called a **type parameter**. It helps us define the generic types that our function will handle. In this case, our function is only dealing with one generic type.\n",
    "\n",
    "Notice, how `p` is now a function: `p: A => Boolean`. This function receives a single input of type `A` and returns a `Boolean` type.\n",
    "\n",
    "We don't need to worry too much about the detail of the implementation. What's important here is the actually the *function signature*.\n",
    "\n",
    "It basically says: hey yo, our function takes in this thing `A` (whatever it is) and as long as the input array is of the same type and the function we pass in is given the same thing, then we're all gravy!\n",
    "\n",
    "The important takeaway is that Scala pays a lot of attention to object **types** so to control the behaviour of functions and generalise them. The end result? We now have a function that works on a general type `A` instead of a concrete type `String`."
   ]
  },
  {
   "cell_type": "markdown",
   "metadata": {},
   "source": [
    "#### Exercise 1.2 ✍ \n",
    "Implement `isSorted` which checks whether an `Array[A]` is sorted according to a given comparison function"
   ]
  },
  {
   "cell_type": "code",
   "execution_count": null,
   "metadata": {},
   "outputs": [],
   "source": [
    "def isSorted[A](as: Array[A], ordering: (A, A) => Boolean): Boolean = {\n",
    "  @annotation.tailrec\n",
    "  def go(n: Int): Boolean =\n",
    "    if (n >= as.length - 1) ???\n",
    "    else if (!ordering(as(n), as(n + 1))) ???\n",
    "    else go(n + 1)\n",
    "\n",
    "  go(0)\n",
    "}"
   ]
  },
  {
   "cell_type": "code",
   "execution_count": null,
   "metadata": {},
   "outputs": [],
   "source": [
    "isSorted(Array(1, 3, 5, 7), (x: Int, y: Int) => x < y)"
   ]
  },
  {
   "cell_type": "code",
   "execution_count": null,
   "metadata": {},
   "outputs": [],
   "source": [
    "isSorted(Array(199, 31, 5, 117), (x: Int, y: Int) => x < y)"
   ]
  },
  {
   "cell_type": "markdown",
   "metadata": {},
   "source": [
    "Paying attention to types in Scala actually help restrict code implementations. Let's solve some little puzzles that combine these notions of HOFs and polymorhic functions."
   ]
  },
  {
   "cell_type": "markdown",
   "metadata": {},
   "source": [
    "#### Exercise 1.3 ✍ \n",
    "Can you follow the types to see how you would implement `partiall()`?"
   ]
  },
  {
   "cell_type": "code",
   "execution_count": null,
   "metadata": {},
   "outputs": [],
   "source": [
    "def partiall[A, B, C](a: A, f: (A,B) => C): B => C = {\n",
    "    ???\n",
    "}"
   ]
  },
  {
   "cell_type": "markdown",
   "metadata": {},
   "source": [
    "#### Exercise 1.4 ✍ \n",
    "**Currying** converts a function of two or more arguments into a function of one argument that partially applies the function. Can you follow the types and implement this function?"
   ]
  },
  {
   "cell_type": "code",
   "execution_count": null,
   "metadata": {},
   "outputs": [],
   "source": [
    "def curry[A, B, C](f: (A, B) => C): A => (B => C) = {\n",
    "    ???\n",
    "}"
   ]
  },
  {
   "cell_type": "markdown",
   "metadata": {},
   "source": [
    "#### Exercise 1.5 ✍ \n",
    "\n",
    "Implement `uncurry()`, which reverses the transformation of *curry*. Note that right-associative operators of the same precedence are evaluated in order from *right* to left.\n",
    "\n",
    "```\n",
    "A => (B => C) can be written as A => B => C\n",
    "```\n",
    "\n",
    "For a hint on the solution, see: https://stackoverflow.com/questions/38746355/difference-between-fa-b-and-fab-in-scala"
   ]
  },
  {
   "cell_type": "code",
   "execution_count": null,
   "metadata": {},
   "outputs": [],
   "source": [
    "def uncurry[A, B, C](f: A => B => C): (A, B) => C = {\n",
    "    ???\n",
    "}"
   ]
  },
  {
   "cell_type": "markdown",
   "metadata": {},
   "source": [
    "Head spinning yet? Good."
   ]
  },
  {
   "cell_type": "markdown",
   "metadata": {},
   "source": [
    "## Function Composition"
   ]
  },
  {
   "cell_type": "markdown",
   "metadata": {},
   "source": [
    "**Function composition** feeds the output of one function to the input of another function. This is why the idea of referential transparency was so important. If a function is defined by its return value, then it is easy to compose functions together to achieve a desired result.\n",
    "\n",
    "\n",
    "#### Exercise 1.6 ✍\n",
    "Implement the higher-order function which *composes* two functions. \n",
    "\n",
    "Hint: think about what composition is and the substitution model we discussed before."
   ]
  },
  {
   "cell_type": "code",
   "execution_count": null,
   "metadata": {},
   "outputs": [],
   "source": [
    "def compose[A, B, C](f: B => C, g: A => B): A => C = {\n",
    "    ???\n",
    "}"
   ]
  }
 ],
 "metadata": {
  "kernelspec": {
   "display_name": "Scala",
   "language": "scala",
   "name": "scala"
  },
  "language_info": {
   "codemirror_mode": "text/x-scala",
   "file_extension": ".sc",
   "mimetype": "text/x-scala",
   "name": "scala",
   "nbconvert_exporter": "script",
   "version": "2.13.3"
  }
 },
 "nbformat": 4,
 "nbformat_minor": 4
}
